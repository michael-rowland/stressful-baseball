{
 "cells": [
  {
   "cell_type": "code",
   "execution_count": 78,
   "metadata": {
    "id": "OZWBMPMsaxgG"
   },
   "outputs": [],
   "source": [
    "import datetime\n",
    "from os import getcwd\n",
    "\n",
    "from pybaseball import statcast, cache\n",
    "import pandas as pd\n",
    "\n",
    "cache.enable()\n",
    "cache.config.cache_type='csv'\n",
    "cache.config.save()"
   ]
  },
  {
   "cell_type": "code",
   "execution_count": 52,
   "metadata": {
    "colab": {
     "base_uri": "https://localhost:8080/"
    },
    "id": "S_ojxzpEd2uV",
    "outputId": "739147e2-a71a-48a3-ff20-5f03346c34c0"
   },
   "outputs": [
    {
     "data": {
      "text/plain": [
       "array([567604, 567310, 567218, 567012, 566913, 566716, 566522, 566424,\n",
       "       566227, 566033, 565943, 565851, 565657, 565559, 564880])"
      ]
     },
     "execution_count": 52,
     "metadata": {},
     "output_type": "execute_result"
    }
   ],
   "source": [
    "# Get certain days games\n",
    "raw = statcast('2019-07-23')\n",
    "raw['game_pk'].unique().astype(int)"
   ]
  },
  {
   "cell_type": "code",
   "execution_count": 3,
   "metadata": {
    "id": "JvVLCW_HbJoN"
   },
   "outputs": [],
   "source": [
    "target = ['game_pk', 'game_date', 'home_team', 'away_team', 'inning', 'inning_topbot', 'events', 'des', 'description', 'on_1b', 'on_2b', 'on_3b', 'outs_when_up', 'home_score', 'away_score']"
   ]
  },
  {
   "cell_type": "code",
   "execution_count": 4,
   "metadata": {
    "id": "QA4MRqwsk4Q_"
   },
   "outputs": [],
   "source": [
    "# df = pd.DataFrame(data=raw[raw['game_pk'] == 567012], columns=target)\n",
    "# df = pd.DataFrame(data=raw[raw['game_pk'] == 567310], columns=target)\n",
    "df = pd.DataFrame(data=raw, columns=target)\n",
    "df = df.dropna(subset=['events'])\n",
    "# here baserunner advances from 2nd to 3rd on a wild pitch, increasing leverage\n",
    "# this data is not recorded under 'events' and is lost when we dropna(...) above\n",
    "# raw.iloc[1228:1233]"
   ]
  },
  {
   "cell_type": "code",
   "execution_count": 5,
   "metadata": {
    "id": "SzjzDNYZxIaY"
   },
   "outputs": [],
   "source": [
    "lookup = pd.read_csv('https://raw.githubusercontent.com/michael-rowland/stressful-baseball/main/li_lookup.csv')"
   ]
  },
  {
   "cell_type": "code",
   "execution_count": 6,
   "metadata": {
    "id": "4zyqq-XBE0SW"
   },
   "outputs": [],
   "source": [
    "# Converts bases to boolean on seperate columns\n",
    "# https://chrisalbon.com/python/data_wrangling/pandas_expand_cells_containing_lists/\n",
    "bases = (\n",
    "    lookup['bases']\n",
    "    .apply(lambda x: [True if base.isnumeric() else False for base in x.split(' ')])\n",
    "    .apply(pd.Series)\n",
    "    .rename(columns = lambda x: f'on_{x+1}b')\n",
    ")\n",
    "lookup = pd.concat([lookup[:], bases[:]], axis=1)"
   ]
  },
  {
   "cell_type": "code",
   "execution_count": 7,
   "metadata": {
    "id": "qJqgunm7JR-v"
   },
   "outputs": [],
   "source": [
    "# make data \"tidy\"\n",
    "lookup = lookup.melt(\n",
    "    id_vars=['inning', 'inning_topbot', 'outs', 'on_1b', 'on_2b', 'on_3b'],\n",
    "    value_vars=['-4', '-3', '-2', '-1', '0', '1', '2', '3', '4'],\n",
    "    var_name='score_diff',\n",
    "    value_name='leverage'\n",
    ")\n",
    "lookup['score_diff'] = lookup['score_diff'].astype(int)\n",
    "lookup = lookup.dropna(subset=['leverage'])"
   ]
  },
  {
   "cell_type": "code",
   "execution_count": 8,
   "metadata": {
    "id": "StD1aby0CcOy"
   },
   "outputs": [],
   "source": [
    "df['score_diff'] = df['home_score'] - df['away_score']\n",
    "df['score_diff'] = df['score_diff'].apply(lambda x: 4 if x > 4 else (-4 if x < -4 else x))\n",
    "df['inning_pre'] = df['inning']\n",
    "df['inning'] = df['inning'].apply(lambda x: 9 if x >= 9 else x)\n",
    "df['on_1b'] = df['on_1b'].apply(lambda x: True if x > 0 else False)\n",
    "df['on_2b'] = df['on_2b'].apply(lambda x: True if x > 0 else False)\n",
    "df['on_3b'] = df['on_3b'].apply(lambda x: True if x > 0 else False)\n",
    "df['outs'] = df['outs_when_up']"
   ]
  },
  {
   "cell_type": "code",
   "execution_count": 9,
   "metadata": {
    "id": "0zXAZEg9kimz"
   },
   "outputs": [],
   "source": [
    "pre_merge_size = df.shape\n",
    "df = pd.merge(df, lookup, on=['inning', 'inning_topbot', 'outs', 'on_1b', 'on_2b', 'on_3b', 'score_diff'])\n",
    "post_merge_size = df.shape"
   ]
  },
  {
   "cell_type": "code",
   "execution_count": 10,
   "metadata": {
    "colab": {
     "base_uri": "https://localhost:8080/"
    },
    "id": "49shgi4c9Xce",
    "outputId": "5bf9f3ce-6ddb-4195-fa17-1cb75556a3ca"
   },
   "outputs": [
    {
     "name": "stdout",
     "output_type": "stream",
     "text": [
      "(1238, 18)\n",
      "(1238, 19)\n"
     ]
    }
   ],
   "source": [
    "print(pre_merge_size)\n",
    "print(post_merge_size)\n",
    "assert(pre_merge_size[0] == post_merge_size[0])"
   ]
  },
  {
   "cell_type": "code",
   "execution_count": 11,
   "metadata": {
    "id": "x6CIRmsf0GJe"
   },
   "outputs": [],
   "source": [
    "# from google.colab import files\n",
    "# df.to_csv('test_output.csv')\n",
    "# files.download('test_output.csv')"
   ]
  },
  {
   "cell_type": "code",
   "execution_count": 13,
   "metadata": {
    "colab": {
     "base_uri": "https://localhost:8080/"
    },
    "id": "BsAUby5xAHHp",
    "outputId": "48f8c8c4-16c6-43b0-e3d9-8f19e356027e"
   },
   "outputs": [
    {
     "data": {
      "text/plain": [
       "game_pk\n",
       "564880.0     5.188889\n",
       "565559.0    13.493333\n",
       "565657.0    10.572727\n",
       "565851.0    12.488889\n",
       "565943.0     6.144444\n",
       "566033.0     7.122222\n",
       "566227.0     9.111111\n",
       "566424.0     5.033333\n",
       "566522.0    11.653846\n",
       "566716.0    10.500000\n",
       "566913.0    12.230000\n",
       "567012.0    17.100000\n",
       "567218.0    13.733333\n",
       "567310.0     4.166667\n",
       "567604.0     5.355556\n",
       "dtype: float64"
      ]
     },
     "execution_count": 13,
     "metadata": {},
     "output_type": "execute_result"
    }
   ],
   "source": [
    "games = df.groupby('game_pk')\n",
    "games['leverage'].sum() / games['inning_pre'].max()"
   ]
  },
  {
   "cell_type": "code",
   "execution_count": 14,
   "metadata": {
    "colab": {
     "base_uri": "https://localhost:8080/"
    },
    "id": "7X5N7WG4AbgA",
    "outputId": "f601bdaa-f981-4ba6-f7d1-1f0fd0004c85"
   },
   "outputs": [
    {
     "data": {
      "text/plain": [
       "15.0"
      ]
     },
     "execution_count": 14,
     "metadata": {},
     "output_type": "execute_result"
    }
   ],
   "source": [
    "df[df['game_pk'] == 565559]['inning_pre'].max()"
   ]
  },
  {
   "cell_type": "code",
   "execution_count": 98,
   "metadata": {},
   "outputs": [],
   "source": [
    "def get_statcast(start, end, team):\n",
    "    '''\n",
    "    queries statcast database and exports data as csv to ./game_data/\n",
    "    '''\n",
    "    year = datetime.date.fromisoformat(start).year\n",
    "\n",
    "    raw_data = statcast(start_dt=start, end_dt=end, team=team, verbose=False)\n",
    "    raw_data.to_csv(path_or_buf=getcwd()+f'/game_data/{team}_{year}.csv', index=False)"
   ]
  },
  {
   "cell_type": "code",
   "execution_count": 69,
   "metadata": {},
   "outputs": [],
   "source": [
    "teams = pd.concat([raw['home_team'], raw['away_team']]).drop_duplicates().to_list()"
   ]
  },
  {
   "cell_type": "code",
   "execution_count": 70,
   "metadata": {},
   "outputs": [],
   "source": [
    "dates = [('2019-03-28', '2019-10-31'), ('2020-07-23', '2020-10-27')]"
   ]
  },
  {
   "cell_type": "code",
   "execution_count": 103,
   "metadata": {},
   "outputs": [
    {
     "name": "stdout",
     "output_type": "stream",
     "text": [
      "year:2019\tteam:PIT\n",
      "This is a large query, it may take a moment to complete\n",
      "year:2020\tteam:PIT\n",
      "This is a large query, it may take a moment to complete\n",
      "year:2019\tteam:NYM\n",
      "This is a large query, it may take a moment to complete\n",
      "year:2020\tteam:NYM\n",
      "This is a large query, it may take a moment to complete\n",
      "year:2019\tteam:WSH\n",
      "This is a large query, it may take a moment to complete\n",
      "year:2020\tteam:WSH\n",
      "This is a large query, it may take a moment to complete\n",
      "year:2019\tteam:LAD\n",
      "This is a large query, it may take a moment to complete\n",
      "year:2020\tteam:LAD\n",
      "This is a large query, it may take a moment to complete\n",
      "year:2019\tteam:HOU\n",
      "This is a large query, it may take a moment to complete\n",
      "year:2020\tteam:HOU\n",
      "This is a large query, it may take a moment to complete\n",
      "year:2019\tteam:DET\n",
      "This is a large query, it may take a moment to complete\n",
      "year:2020\tteam:DET\n",
      "This is a large query, it may take a moment to complete\n",
      "year:2019\tteam:ARI\n",
      "This is a large query, it may take a moment to complete\n",
      "year:2020\tteam:ARI\n",
      "This is a large query, it may take a moment to complete\n",
      "year:2019\tteam:CIN\n",
      "This is a large query, it may take a moment to complete\n",
      "year:2020\tteam:CIN\n",
      "This is a large query, it may take a moment to complete\n",
      "year:2019\tteam:MIA\n",
      "This is a large query, it may take a moment to complete\n",
      "year:2020\tteam:MIA\n",
      "This is a large query, it may take a moment to complete\n",
      "year:2019\tteam:KC\n",
      "This is a large query, it may take a moment to complete\n",
      "year:2020\tteam:KC\n",
      "This is a large query, it may take a moment to complete\n",
      "year:2019\tteam:NYY\n",
      "This is a large query, it may take a moment to complete\n",
      "year:2020\tteam:NYY\n",
      "This is a large query, it may take a moment to complete\n",
      "year:2019\tteam:CLE\n",
      "This is a large query, it may take a moment to complete\n",
      "year:2020\tteam:CLE\n",
      "This is a large query, it may take a moment to complete\n",
      "year:2019\tteam:BOS\n",
      "This is a large query, it may take a moment to complete\n",
      "year:2020\tteam:BOS\n",
      "This is a large query, it may take a moment to complete\n",
      "year:2019\tteam:CHC\n",
      "This is a large query, it may take a moment to complete\n",
      "year:2020\tteam:CHC\n",
      "This is a large query, it may take a moment to complete\n",
      "year:2019\tteam:TEX\n",
      "This is a large query, it may take a moment to complete\n",
      "year:2020\tteam:TEX\n",
      "This is a large query, it may take a moment to complete\n",
      "year:2019\tteam:STL\n",
      "This is a large query, it may take a moment to complete\n",
      "year:2020\tteam:STL\n",
      "This is a large query, it may take a moment to complete\n",
      "year:2019\tteam:SD\n",
      "This is a large query, it may take a moment to complete\n",
      "year:2020\tteam:SD\n",
      "This is a large query, it may take a moment to complete\n",
      "year:2019\tteam:COL\n",
      "This is a large query, it may take a moment to complete\n",
      "year:2020\tteam:COL\n",
      "This is a large query, it may take a moment to complete\n",
      "year:2019\tteam:LAA\n",
      "This is a large query, it may take a moment to complete\n",
      "year:2020\tteam:LAA\n",
      "This is a large query, it may take a moment to complete\n",
      "year:2019\tteam:OAK\n",
      "This is a large query, it may take a moment to complete\n",
      "year:2020\tteam:OAK\n",
      "This is a large query, it may take a moment to complete\n",
      "year:2019\tteam:PHI\n",
      "This is a large query, it may take a moment to complete\n",
      "year:2020\tteam:PHI\n",
      "This is a large query, it may take a moment to complete\n",
      "year:2019\tteam:BAL\n",
      "This is a large query, it may take a moment to complete\n",
      "year:2020\tteam:BAL\n",
      "This is a large query, it may take a moment to complete\n"
     ]
    }
   ],
   "source": [
    "for team in teams:\n",
    "    for date in dates:\n",
    "        print(f'year:{datetime.date.fromisoformat(date[0]).year}\\tteam:{team}')\n",
    "        get_statcast(start=date[0], end=date[1], team=team)"
   ]
  },
  {
   "cell_type": "code",
   "execution_count": null,
   "metadata": {},
   "outputs": [],
   "source": []
  }
 ],
 "metadata": {
  "colab": {
   "collapsed_sections": [],
   "name": "stressful_baseball_starter_notebook.ipynb",
   "provenance": []
  },
  "kernelspec": {
   "display_name": "stressful-baseball",
   "language": "python",
   "name": "stressful-baseball"
  },
  "language_info": {
   "codemirror_mode": {
    "name": "ipython",
    "version": 3
   },
   "file_extension": ".py",
   "mimetype": "text/x-python",
   "name": "python",
   "nbconvert_exporter": "python",
   "pygments_lexer": "ipython3",
   "version": "3.7.9"
  }
 },
 "nbformat": 4,
 "nbformat_minor": 4
}
