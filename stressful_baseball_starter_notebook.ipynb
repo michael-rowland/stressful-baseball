{
  "nbformat": 4,
  "nbformat_minor": 0,
  "metadata": {
    "colab": {
      "name": "stressful_baseball_starter_notebook.ipynb",
      "provenance": [],
      "collapsed_sections": []
    },
    "kernelspec": {
      "name": "python3",
      "display_name": "Python 3"
    }
  },
  "cells": [
    {
      "cell_type": "code",
      "metadata": {
        "id": "weEDZq54al9n",
        "colab": {
          "base_uri": "https://localhost:8080/"
        },
        "outputId": "57faa252-e8de-45eb-fdce-bcd31ab045d0"
      },
      "source": [
        "!pip install pybaseball -q"
      ],
      "execution_count": 1,
      "outputs": [
        {
          "output_type": "stream",
          "text": [
            "\u001b[K     |████████████████████████████████| 409kB 5.8MB/s \n",
            "\u001b[K     |████████████████████████████████| 296kB 29.5MB/s \n",
            "\u001b[K     |████████████████████████████████| 17.7MB 234kB/s \n",
            "\u001b[?25h"
          ],
          "name": "stdout"
        }
      ]
    },
    {
      "cell_type": "code",
      "metadata": {
        "id": "OZWBMPMsaxgG"
      },
      "source": [
        "from pybaseball import statcast\n",
        "import pandas as pd"
      ],
      "execution_count": 2,
      "outputs": []
    },
    {
      "cell_type": "code",
      "metadata": {
        "id": "S_ojxzpEd2uV",
        "colab": {
          "base_uri": "https://localhost:8080/"
        },
        "outputId": "739147e2-a71a-48a3-ff20-5f03346c34c0"
      },
      "source": [
        "# Get certain days games\n",
        "raw = statcast('2019-07-23')\n",
        "raw['game_pk'].unique().astype(int)"
      ],
      "execution_count": 3,
      "outputs": [
        {
          "output_type": "execute_result",
          "data": {
            "text/plain": [
              "array([567604, 567310, 567218, 567012, 566913, 566716, 566522, 566424,\n",
              "       566227, 566033, 565943, 565851, 565657, 565559, 564880])"
            ]
          },
          "metadata": {
            "tags": []
          },
          "execution_count": 3
        }
      ]
    },
    {
      "cell_type": "code",
      "metadata": {
        "id": "JvVLCW_HbJoN"
      },
      "source": [
        "target = ['game_pk', 'game_date', 'home_team', 'away_team', 'inning', 'inning_topbot', 'events', 'des', 'description', 'on_1b', 'on_2b', 'on_3b', 'outs_when_up', 'home_score', 'away_score']"
      ],
      "execution_count": 4,
      "outputs": []
    },
    {
      "cell_type": "code",
      "metadata": {
        "id": "QA4MRqwsk4Q_"
      },
      "source": [
        "# df = pd.DataFrame(data=raw[raw['game_pk'] == 567012], columns=target)\n",
        "# df = pd.DataFrame(data=raw[raw['game_pk'] == 567310], columns=target)\n",
        "df = pd.DataFrame(data=raw, columns=target)\n",
        "df = df.dropna(subset=['events'])\n",
        "# here baserunner advances from 2nd to 3rd on a wild pitch, increasing leverage\n",
        "# this data is not recorded under 'events' and is lost when we dropna(...) above\n",
        "# raw.iloc[1228:1233]"
      ],
      "execution_count": 5,
      "outputs": []
    },
    {
      "cell_type": "code",
      "metadata": {
        "id": "SzjzDNYZxIaY"
      },
      "source": [
        "lookup = pd.read_csv('https://raw.githubusercontent.com/michael-rowland/stressful-baseball/main/li_lookup.csv')"
      ],
      "execution_count": 6,
      "outputs": []
    },
    {
      "cell_type": "code",
      "metadata": {
        "id": "4zyqq-XBE0SW"
      },
      "source": [
        "# Converts bases to boolean on seperate columns\n",
        "# https://chrisalbon.com/python/data_wrangling/pandas_expand_cells_containing_lists/\n",
        "bases = (\n",
        "    lookup['bases']\n",
        "    .apply(lambda x: [True if base.isnumeric() else False for base in x.split(' ')])\n",
        "    .apply(pd.Series)\n",
        "    .rename(columns = lambda x: f'on_{x+1}b')\n",
        ")\n",
        "lookup = pd.concat([lookup[:], bases[:]], axis=1)"
      ],
      "execution_count": 7,
      "outputs": []
    },
    {
      "cell_type": "code",
      "metadata": {
        "id": "qJqgunm7JR-v"
      },
      "source": [
        "# make data \"tidy\"\n",
        "lookup = lookup.melt(\n",
        "    id_vars=['inning', 'inning_topbot', 'outs', 'on_1b', 'on_2b', 'on_3b'],\n",
        "    value_vars=['-4', '-3', '-2', '-1', '0', '1', '2', '3', '4'],\n",
        "    var_name='score_diff',\n",
        "    value_name='leverage'\n",
        ")\n",
        "lookup['score_diff'] = lookup['score_diff'].astype(int)\n",
        "lookup = lookup.dropna(subset=['leverage'])"
      ],
      "execution_count": 8,
      "outputs": []
    },
    {
      "cell_type": "code",
      "metadata": {
        "id": "StD1aby0CcOy"
      },
      "source": [
        "df['score_diff'] = df['home_score'] - df['away_score']\n",
        "df['score_diff'] = df['score_diff'].apply(lambda x: 4 if x > 4 else (-4 if x < -4 else x))\n",
        "df['inning_pre'] = df['inning']\n",
        "df['inning'] = df['inning'].apply(lambda x: 9 if x >= 9 else x)\n",
        "df['on_1b'] = df['on_1b'].apply(lambda x: True if x > 0 else False)\n",
        "df['on_2b'] = df['on_2b'].apply(lambda x: True if x > 0 else False)\n",
        "df['on_3b'] = df['on_3b'].apply(lambda x: True if x > 0 else False)\n",
        "df['outs'] = df['outs_when_up']"
      ],
      "execution_count": 9,
      "outputs": []
    },
    {
      "cell_type": "code",
      "metadata": {
        "id": "0zXAZEg9kimz"
      },
      "source": [
        "pre_merge_size = df.shape\n",
        "df = pd.merge(df, lookup, on=['inning', 'inning_topbot', 'outs', 'on_1b', 'on_2b', 'on_3b', 'score_diff'])\n",
        "post_merge_size = df.shape"
      ],
      "execution_count": 10,
      "outputs": []
    },
    {
      "cell_type": "code",
      "metadata": {
        "colab": {
          "base_uri": "https://localhost:8080/"
        },
        "id": "49shgi4c9Xce",
        "outputId": "5bf9f3ce-6ddb-4195-fa17-1cb75556a3ca"
      },
      "source": [
        "print(pre_merge_size)\n",
        "print(post_merge_size)\n",
        "assert(pre_merge_size[0] == post_merge_size[0])"
      ],
      "execution_count": 11,
      "outputs": [
        {
          "output_type": "stream",
          "text": [
            "(1238, 18)\n",
            "(1238, 19)\n"
          ],
          "name": "stdout"
        }
      ]
    },
    {
      "cell_type": "code",
      "metadata": {
        "id": "x6CIRmsf0GJe"
      },
      "source": [
        "# from google.colab import files\n",
        "# df.to_csv('test_output.csv')\n",
        "# files.download('test_output.csv')"
      ],
      "execution_count": 12,
      "outputs": []
    },
    {
      "cell_type": "code",
      "metadata": {
        "colab": {
          "base_uri": "https://localhost:8080/",
          "height": 415
        },
        "id": "wG4bbT-GAF-c",
        "outputId": "29e9f6fe-33dd-4ec4-da73-ff737dfb90d2"
      },
      "source": [
        "df.head()"
      ],
      "execution_count": 13,
      "outputs": [
        {
          "output_type": "execute_result",
          "data": {
            "text/html": [
              "<div>\n",
              "<style scoped>\n",
              "    .dataframe tbody tr th:only-of-type {\n",
              "        vertical-align: middle;\n",
              "    }\n",
              "\n",
              "    .dataframe tbody tr th {\n",
              "        vertical-align: top;\n",
              "    }\n",
              "\n",
              "    .dataframe thead th {\n",
              "        text-align: right;\n",
              "    }\n",
              "</style>\n",
              "<table border=\"1\" class=\"dataframe\">\n",
              "  <thead>\n",
              "    <tr style=\"text-align: right;\">\n",
              "      <th></th>\n",
              "      <th>game_pk</th>\n",
              "      <th>game_date</th>\n",
              "      <th>home_team</th>\n",
              "      <th>away_team</th>\n",
              "      <th>inning</th>\n",
              "      <th>inning_topbot</th>\n",
              "      <th>events</th>\n",
              "      <th>des</th>\n",
              "      <th>description</th>\n",
              "      <th>on_1b</th>\n",
              "      <th>on_2b</th>\n",
              "      <th>on_3b</th>\n",
              "      <th>outs_when_up</th>\n",
              "      <th>home_score</th>\n",
              "      <th>away_score</th>\n",
              "      <th>score_diff</th>\n",
              "      <th>inning_pre</th>\n",
              "      <th>outs</th>\n",
              "      <th>leverage</th>\n",
              "    </tr>\n",
              "  </thead>\n",
              "  <tbody>\n",
              "    <tr>\n",
              "      <th>0</th>\n",
              "      <td>567604.0</td>\n",
              "      <td>2019-07-23</td>\n",
              "      <td>MIL</td>\n",
              "      <td>CIN</td>\n",
              "      <td>9.0</td>\n",
              "      <td>Bot</td>\n",
              "      <td>grounded_into_double_play</td>\n",
              "      <td>Jesus Aguilar grounds into a double play, thir...</td>\n",
              "      <td>hit_into_play</td>\n",
              "      <td>True</td>\n",
              "      <td>False</td>\n",
              "      <td>False</td>\n",
              "      <td>1.0</td>\n",
              "      <td>6.0</td>\n",
              "      <td>14.0</td>\n",
              "      <td>-4.0</td>\n",
              "      <td>9.0</td>\n",
              "      <td>1.0</td>\n",
              "      <td>0.6</td>\n",
              "    </tr>\n",
              "    <tr>\n",
              "      <th>1</th>\n",
              "      <td>567604.0</td>\n",
              "      <td>2019-07-23</td>\n",
              "      <td>MIL</td>\n",
              "      <td>CIN</td>\n",
              "      <td>9.0</td>\n",
              "      <td>Bot</td>\n",
              "      <td>single</td>\n",
              "      <td>Orlando Arcia singles on a ground ball to cent...</td>\n",
              "      <td>hit_into_play_no_out</td>\n",
              "      <td>False</td>\n",
              "      <td>False</td>\n",
              "      <td>False</td>\n",
              "      <td>1.0</td>\n",
              "      <td>6.0</td>\n",
              "      <td>14.0</td>\n",
              "      <td>-4.0</td>\n",
              "      <td>9.0</td>\n",
              "      <td>1.0</td>\n",
              "      <td>0.2</td>\n",
              "    </tr>\n",
              "    <tr>\n",
              "      <th>2</th>\n",
              "      <td>567310.0</td>\n",
              "      <td>2019-07-23</td>\n",
              "      <td>CWS</td>\n",
              "      <td>MIA</td>\n",
              "      <td>9.0</td>\n",
              "      <td>Bot</td>\n",
              "      <td>field_out</td>\n",
              "      <td>Jose Abreu flies out sharply to center fielder...</td>\n",
              "      <td>hit_into_play</td>\n",
              "      <td>False</td>\n",
              "      <td>False</td>\n",
              "      <td>False</td>\n",
              "      <td>1.0</td>\n",
              "      <td>1.0</td>\n",
              "      <td>5.0</td>\n",
              "      <td>-4.0</td>\n",
              "      <td>9.0</td>\n",
              "      <td>1.0</td>\n",
              "      <td>0.2</td>\n",
              "    </tr>\n",
              "    <tr>\n",
              "      <th>3</th>\n",
              "      <td>566424.0</td>\n",
              "      <td>2019-07-23</td>\n",
              "      <td>SEA</td>\n",
              "      <td>TEX</td>\n",
              "      <td>9.0</td>\n",
              "      <td>Bot</td>\n",
              "      <td>field_out</td>\n",
              "      <td>Austin Nola grounds out, shortstop Elvis Andru...</td>\n",
              "      <td>hit_into_play</td>\n",
              "      <td>False</td>\n",
              "      <td>False</td>\n",
              "      <td>False</td>\n",
              "      <td>1.0</td>\n",
              "      <td>2.0</td>\n",
              "      <td>7.0</td>\n",
              "      <td>-4.0</td>\n",
              "      <td>9.0</td>\n",
              "      <td>1.0</td>\n",
              "      <td>0.2</td>\n",
              "    </tr>\n",
              "    <tr>\n",
              "      <th>4</th>\n",
              "      <td>564880.0</td>\n",
              "      <td>2019-07-23</td>\n",
              "      <td>ARI</td>\n",
              "      <td>BAL</td>\n",
              "      <td>9.0</td>\n",
              "      <td>Bot</td>\n",
              "      <td>field_out</td>\n",
              "      <td>Christian Walker flies out to right fielder Tr...</td>\n",
              "      <td>hit_into_play</td>\n",
              "      <td>False</td>\n",
              "      <td>False</td>\n",
              "      <td>False</td>\n",
              "      <td>1.0</td>\n",
              "      <td>2.0</td>\n",
              "      <td>7.0</td>\n",
              "      <td>-4.0</td>\n",
              "      <td>9.0</td>\n",
              "      <td>1.0</td>\n",
              "      <td>0.2</td>\n",
              "    </tr>\n",
              "  </tbody>\n",
              "</table>\n",
              "</div>"
            ],
            "text/plain": [
              "    game_pk  game_date home_team  ... inning_pre  outs leverage\n",
              "0  567604.0 2019-07-23       MIL  ...        9.0   1.0      0.6\n",
              "1  567604.0 2019-07-23       MIL  ...        9.0   1.0      0.2\n",
              "2  567310.0 2019-07-23       CWS  ...        9.0   1.0      0.2\n",
              "3  566424.0 2019-07-23       SEA  ...        9.0   1.0      0.2\n",
              "4  564880.0 2019-07-23       ARI  ...        9.0   1.0      0.2\n",
              "\n",
              "[5 rows x 19 columns]"
            ]
          },
          "metadata": {
            "tags": []
          },
          "execution_count": 13
        }
      ]
    },
    {
      "cell_type": "code",
      "metadata": {
        "colab": {
          "base_uri": "https://localhost:8080/"
        },
        "id": "BsAUby5xAHHp",
        "outputId": "48f8c8c4-16c6-43b0-e3d9-8f19e356027e"
      },
      "source": [
        "games = df.groupby('game_pk')\n",
        "games['leverage'].sum() / games['inning_pre'].max()"
      ],
      "execution_count": 14,
      "outputs": [
        {
          "output_type": "execute_result",
          "data": {
            "text/plain": [
              "game_pk\n",
              "564880.0     5.188889\n",
              "565559.0    13.493333\n",
              "565657.0    10.572727\n",
              "565851.0    12.488889\n",
              "565943.0     6.144444\n",
              "566033.0     7.122222\n",
              "566227.0     9.111111\n",
              "566424.0     5.033333\n",
              "566522.0    11.653846\n",
              "566716.0    10.500000\n",
              "566913.0    12.230000\n",
              "567012.0    17.100000\n",
              "567218.0    13.733333\n",
              "567310.0     4.166667\n",
              "567604.0     5.355556\n",
              "dtype: float64"
            ]
          },
          "metadata": {
            "tags": []
          },
          "execution_count": 14
        }
      ]
    },
    {
      "cell_type": "code",
      "metadata": {
        "colab": {
          "base_uri": "https://localhost:8080/"
        },
        "id": "7X5N7WG4AbgA",
        "outputId": "f601bdaa-f981-4ba6-f7d1-1f0fd0004c85"
      },
      "source": [
        "df[df['game_pk'] == 565559]['inning_pre'].max()"
      ],
      "execution_count": 15,
      "outputs": [
        {
          "output_type": "execute_result",
          "data": {
            "text/plain": [
              "15.0"
            ]
          },
          "metadata": {
            "tags": []
          },
          "execution_count": 15
        }
      ]
    }
  ]
}